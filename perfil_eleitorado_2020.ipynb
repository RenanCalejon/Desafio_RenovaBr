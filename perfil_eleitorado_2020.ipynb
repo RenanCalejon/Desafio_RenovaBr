{
  "nbformat": 4,
  "nbformat_minor": 0,
  "metadata": {
    "colab": {
      "provenance": [],
      "authorship_tag": "ABX9TyNjkhkNmwrcpiBo78f3luIi",
      "include_colab_link": true
    },
    "kernelspec": {
      "name": "python3",
      "display_name": "Python 3"
    },
    "language_info": {
      "name": "python"
    }
  },
  "cells": [
    {
      "cell_type": "markdown",
      "metadata": {
        "id": "view-in-github",
        "colab_type": "text"
      },
      "source": [
        "<a href=\"https://colab.research.google.com/github/RenanCalejon/Desafio_RenovaBr/blob/main/perfil_eleitorado_2020.ipynb\" target=\"_parent\"><img src=\"https://colab.research.google.com/assets/colab-badge.svg\" alt=\"Open In Colab\"/></a>"
      ]
    },
    {
      "cell_type": "markdown",
      "source": [
        "# Tratamento de dados do Perfil do eleitorado\n",
        "- Importanção de pandas para a análise e manipulação de dados em Python.\n",
        "- Comando para lê um arquivo CSV\n",
        "- Exibição das as cinco primeiras linhas do DataFrame\n"
      ],
      "metadata": {
        "id": "griLygdtJBgx"
      }
    },
    {
      "cell_type": "code",
      "execution_count": 28,
      "metadata": {
        "colab": {
          "base_uri": "https://localhost:8080/",
          "height": 412
        },
        "id": "IN6FWrkXpwqr",
        "outputId": "4dd64d0b-06d1-43b3-ca4d-88bd89cfa0d3"
      },
      "outputs": [
        {
          "output_type": "stream",
          "name": "stderr",
          "text": [
            "<ipython-input-28-5e45f5ce7792>:2: ParserWarning: Falling back to the 'python' engine because the 'c' engine does not support regex separators (separators > 1 char and different from '\\s+' are interpreted as regex); you can avoid this warning by specifying engine='python'.\n",
            "  df = pd.read_csv(\"/home/perfil_eleitorado_2020.csv\", sep='\";\"', encoding=\"ISO-8859-1\")\n"
          ]
        },
        {
          "output_type": "execute_result",
          "data": {
            "text/plain": [
              "   \"DT_GERACAO HH_GERACAO ANO_ELEICAO SG_UF CD_MUNICIPIO  \\\n",
              "0  \"01/08/2020   08:37:48        2020    SP        70734   \n",
              "1  \"01/08/2020   08:37:48        2020    SP        70734   \n",
              "2  \"01/08/2020   08:37:48        2020    SP        70734   \n",
              "3  \"01/08/2020   08:37:48        2020    SP        70734   \n",
              "4  \"01/08/2020   08:37:48        2020    SP        70734   \n",
              "\n",
              "           NM_MUNICIPIO CD_MUN_SIT_BIOMETRIA DS_MUN_SIT_BIOMETRIA NR_ZONA  \\\n",
              "0  SÃO BENTO DO SAPUCAÍ                    0        Sem biometria     314   \n",
              "1  SÃO BENTO DO SAPUCAÍ                    0        Sem biometria     314   \n",
              "2  SÃO BENTO DO SAPUCAÍ                    0        Sem biometria     314   \n",
              "3  SÃO BENTO DO SAPUCAÍ                    0        Sem biometria     314   \n",
              "4  SÃO BENTO DO SAPUCAÍ                    0        Sem biometria     314   \n",
              "\n",
              "  CD_GENERO  ... CD_ESTADO_CIVIL DS_ESTADO_CIVIL CD_FAIXA_ETARIA  \\\n",
              "0         4  ...               3          CASADO            7074   \n",
              "1         4  ...               3          CASADO            7074   \n",
              "2         4  ...               3          CASADO            7074   \n",
              "3         4  ...               3          CASADO            7074   \n",
              "4         4  ...               3          CASADO            7074   \n",
              "\n",
              "                  DS_FAIXA_ETARIA CD_GRAU_ESCOLARIDADE  \\\n",
              "0  70 a 74 anos                                      3   \n",
              "1  70 a 74 anos                                      4   \n",
              "2  70 a 74 anos                                      5   \n",
              "3  70 a 74 anos                                      6   \n",
              "4  70 a 74 anos                                      8   \n",
              "\n",
              "            DS_GRAU_ESCOLARIDADE QT_ELEITORES_PERFIL QT_ELEITORES_BIOMETRIA  \\\n",
              "0  ENSINO FUNDAMENTAL INCOMPLETO                  47                     37   \n",
              "1    ENSINO FUNDAMENTAL COMPLETO                   5                      4   \n",
              "2        ENSINO MÉDIO INCOMPLETO                   1                      1   \n",
              "3          ENSINO MÉDIO COMPLETO                  10                      8   \n",
              "4              SUPERIOR COMPLETO                  23                     18   \n",
              "\n",
              "  QT_ELEITORES_DEFICIENCIA QT_ELEITORES_INC_NM_SOCIAL\"  \n",
              "0                        1                          0\"  \n",
              "1                        0                          0\"  \n",
              "2                        0                          0\"  \n",
              "3                        0                          0\"  \n",
              "4                        0                          0\"  \n",
              "\n",
              "[5 rows x 21 columns]"
            ],
            "text/html": [
              "\n",
              "  <div id=\"df-94d1a385-c57c-42ba-b0a7-993c0daba95a\" class=\"colab-df-container\">\n",
              "    <div>\n",
              "<style scoped>\n",
              "    .dataframe tbody tr th:only-of-type {\n",
              "        vertical-align: middle;\n",
              "    }\n",
              "\n",
              "    .dataframe tbody tr th {\n",
              "        vertical-align: top;\n",
              "    }\n",
              "\n",
              "    .dataframe thead th {\n",
              "        text-align: right;\n",
              "    }\n",
              "</style>\n",
              "<table border=\"1\" class=\"dataframe\">\n",
              "  <thead>\n",
              "    <tr style=\"text-align: right;\">\n",
              "      <th></th>\n",
              "      <th>\"DT_GERACAO</th>\n",
              "      <th>HH_GERACAO</th>\n",
              "      <th>ANO_ELEICAO</th>\n",
              "      <th>SG_UF</th>\n",
              "      <th>CD_MUNICIPIO</th>\n",
              "      <th>NM_MUNICIPIO</th>\n",
              "      <th>CD_MUN_SIT_BIOMETRIA</th>\n",
              "      <th>DS_MUN_SIT_BIOMETRIA</th>\n",
              "      <th>NR_ZONA</th>\n",
              "      <th>CD_GENERO</th>\n",
              "      <th>...</th>\n",
              "      <th>CD_ESTADO_CIVIL</th>\n",
              "      <th>DS_ESTADO_CIVIL</th>\n",
              "      <th>CD_FAIXA_ETARIA</th>\n",
              "      <th>DS_FAIXA_ETARIA</th>\n",
              "      <th>CD_GRAU_ESCOLARIDADE</th>\n",
              "      <th>DS_GRAU_ESCOLARIDADE</th>\n",
              "      <th>QT_ELEITORES_PERFIL</th>\n",
              "      <th>QT_ELEITORES_BIOMETRIA</th>\n",
              "      <th>QT_ELEITORES_DEFICIENCIA</th>\n",
              "      <th>QT_ELEITORES_INC_NM_SOCIAL\"</th>\n",
              "    </tr>\n",
              "  </thead>\n",
              "  <tbody>\n",
              "    <tr>\n",
              "      <th>0</th>\n",
              "      <td>\"01/08/2020</td>\n",
              "      <td>08:37:48</td>\n",
              "      <td>2020</td>\n",
              "      <td>SP</td>\n",
              "      <td>70734</td>\n",
              "      <td>SÃO BENTO DO SAPUCAÍ</td>\n",
              "      <td>0</td>\n",
              "      <td>Sem biometria</td>\n",
              "      <td>314</td>\n",
              "      <td>4</td>\n",
              "      <td>...</td>\n",
              "      <td>3</td>\n",
              "      <td>CASADO</td>\n",
              "      <td>7074</td>\n",
              "      <td>70 a 74 anos</td>\n",
              "      <td>3</td>\n",
              "      <td>ENSINO FUNDAMENTAL INCOMPLETO</td>\n",
              "      <td>47</td>\n",
              "      <td>37</td>\n",
              "      <td>1</td>\n",
              "      <td>0\"</td>\n",
              "    </tr>\n",
              "    <tr>\n",
              "      <th>1</th>\n",
              "      <td>\"01/08/2020</td>\n",
              "      <td>08:37:48</td>\n",
              "      <td>2020</td>\n",
              "      <td>SP</td>\n",
              "      <td>70734</td>\n",
              "      <td>SÃO BENTO DO SAPUCAÍ</td>\n",
              "      <td>0</td>\n",
              "      <td>Sem biometria</td>\n",
              "      <td>314</td>\n",
              "      <td>4</td>\n",
              "      <td>...</td>\n",
              "      <td>3</td>\n",
              "      <td>CASADO</td>\n",
              "      <td>7074</td>\n",
              "      <td>70 a 74 anos</td>\n",
              "      <td>4</td>\n",
              "      <td>ENSINO FUNDAMENTAL COMPLETO</td>\n",
              "      <td>5</td>\n",
              "      <td>4</td>\n",
              "      <td>0</td>\n",
              "      <td>0\"</td>\n",
              "    </tr>\n",
              "    <tr>\n",
              "      <th>2</th>\n",
              "      <td>\"01/08/2020</td>\n",
              "      <td>08:37:48</td>\n",
              "      <td>2020</td>\n",
              "      <td>SP</td>\n",
              "      <td>70734</td>\n",
              "      <td>SÃO BENTO DO SAPUCAÍ</td>\n",
              "      <td>0</td>\n",
              "      <td>Sem biometria</td>\n",
              "      <td>314</td>\n",
              "      <td>4</td>\n",
              "      <td>...</td>\n",
              "      <td>3</td>\n",
              "      <td>CASADO</td>\n",
              "      <td>7074</td>\n",
              "      <td>70 a 74 anos</td>\n",
              "      <td>5</td>\n",
              "      <td>ENSINO MÉDIO INCOMPLETO</td>\n",
              "      <td>1</td>\n",
              "      <td>1</td>\n",
              "      <td>0</td>\n",
              "      <td>0\"</td>\n",
              "    </tr>\n",
              "    <tr>\n",
              "      <th>3</th>\n",
              "      <td>\"01/08/2020</td>\n",
              "      <td>08:37:48</td>\n",
              "      <td>2020</td>\n",
              "      <td>SP</td>\n",
              "      <td>70734</td>\n",
              "      <td>SÃO BENTO DO SAPUCAÍ</td>\n",
              "      <td>0</td>\n",
              "      <td>Sem biometria</td>\n",
              "      <td>314</td>\n",
              "      <td>4</td>\n",
              "      <td>...</td>\n",
              "      <td>3</td>\n",
              "      <td>CASADO</td>\n",
              "      <td>7074</td>\n",
              "      <td>70 a 74 anos</td>\n",
              "      <td>6</td>\n",
              "      <td>ENSINO MÉDIO COMPLETO</td>\n",
              "      <td>10</td>\n",
              "      <td>8</td>\n",
              "      <td>0</td>\n",
              "      <td>0\"</td>\n",
              "    </tr>\n",
              "    <tr>\n",
              "      <th>4</th>\n",
              "      <td>\"01/08/2020</td>\n",
              "      <td>08:37:48</td>\n",
              "      <td>2020</td>\n",
              "      <td>SP</td>\n",
              "      <td>70734</td>\n",
              "      <td>SÃO BENTO DO SAPUCAÍ</td>\n",
              "      <td>0</td>\n",
              "      <td>Sem biometria</td>\n",
              "      <td>314</td>\n",
              "      <td>4</td>\n",
              "      <td>...</td>\n",
              "      <td>3</td>\n",
              "      <td>CASADO</td>\n",
              "      <td>7074</td>\n",
              "      <td>70 a 74 anos</td>\n",
              "      <td>8</td>\n",
              "      <td>SUPERIOR COMPLETO</td>\n",
              "      <td>23</td>\n",
              "      <td>18</td>\n",
              "      <td>0</td>\n",
              "      <td>0\"</td>\n",
              "    </tr>\n",
              "  </tbody>\n",
              "</table>\n",
              "<p>5 rows × 21 columns</p>\n",
              "</div>\n",
              "    <div class=\"colab-df-buttons\">\n",
              "\n",
              "  <div class=\"colab-df-container\">\n",
              "    <button class=\"colab-df-convert\" onclick=\"convertToInteractive('df-94d1a385-c57c-42ba-b0a7-993c0daba95a')\"\n",
              "            title=\"Convert this dataframe to an interactive table.\"\n",
              "            style=\"display:none;\">\n",
              "\n",
              "  <svg xmlns=\"http://www.w3.org/2000/svg\" height=\"24px\" viewBox=\"0 -960 960 960\">\n",
              "    <path d=\"M120-120v-720h720v720H120Zm60-500h600v-160H180v160Zm220 220h160v-160H400v160Zm0 220h160v-160H400v160ZM180-400h160v-160H180v160Zm440 0h160v-160H620v160ZM180-180h160v-160H180v160Zm440 0h160v-160H620v160Z\"/>\n",
              "  </svg>\n",
              "    </button>\n",
              "\n",
              "  <style>\n",
              "    .colab-df-container {\n",
              "      display:flex;\n",
              "      gap: 12px;\n",
              "    }\n",
              "\n",
              "    .colab-df-convert {\n",
              "      background-color: #E8F0FE;\n",
              "      border: none;\n",
              "      border-radius: 50%;\n",
              "      cursor: pointer;\n",
              "      display: none;\n",
              "      fill: #1967D2;\n",
              "      height: 32px;\n",
              "      padding: 0 0 0 0;\n",
              "      width: 32px;\n",
              "    }\n",
              "\n",
              "    .colab-df-convert:hover {\n",
              "      background-color: #E2EBFA;\n",
              "      box-shadow: 0px 1px 2px rgba(60, 64, 67, 0.3), 0px 1px 3px 1px rgba(60, 64, 67, 0.15);\n",
              "      fill: #174EA6;\n",
              "    }\n",
              "\n",
              "    .colab-df-buttons div {\n",
              "      margin-bottom: 4px;\n",
              "    }\n",
              "\n",
              "    [theme=dark] .colab-df-convert {\n",
              "      background-color: #3B4455;\n",
              "      fill: #D2E3FC;\n",
              "    }\n",
              "\n",
              "    [theme=dark] .colab-df-convert:hover {\n",
              "      background-color: #434B5C;\n",
              "      box-shadow: 0px 1px 3px 1px rgba(0, 0, 0, 0.15);\n",
              "      filter: drop-shadow(0px 1px 2px rgba(0, 0, 0, 0.3));\n",
              "      fill: #FFFFFF;\n",
              "    }\n",
              "  </style>\n",
              "\n",
              "    <script>\n",
              "      const buttonEl =\n",
              "        document.querySelector('#df-94d1a385-c57c-42ba-b0a7-993c0daba95a button.colab-df-convert');\n",
              "      buttonEl.style.display =\n",
              "        google.colab.kernel.accessAllowed ? 'block' : 'none';\n",
              "\n",
              "      async function convertToInteractive(key) {\n",
              "        const element = document.querySelector('#df-94d1a385-c57c-42ba-b0a7-993c0daba95a');\n",
              "        const dataTable =\n",
              "          await google.colab.kernel.invokeFunction('convertToInteractive',\n",
              "                                                    [key], {});\n",
              "        if (!dataTable) return;\n",
              "\n",
              "        const docLinkHtml = 'Like what you see? Visit the ' +\n",
              "          '<a target=\"_blank\" href=https://colab.research.google.com/notebooks/data_table.ipynb>data table notebook</a>'\n",
              "          + ' to learn more about interactive tables.';\n",
              "        element.innerHTML = '';\n",
              "        dataTable['output_type'] = 'display_data';\n",
              "        await google.colab.output.renderOutput(dataTable, element);\n",
              "        const docLink = document.createElement('div');\n",
              "        docLink.innerHTML = docLinkHtml;\n",
              "        element.appendChild(docLink);\n",
              "      }\n",
              "    </script>\n",
              "  </div>\n",
              "\n",
              "\n",
              "<div id=\"df-d36894b4-b071-4cb7-a50d-40b5b96f4bfd\">\n",
              "  <button class=\"colab-df-quickchart\" onclick=\"quickchart('df-d36894b4-b071-4cb7-a50d-40b5b96f4bfd')\"\n",
              "            title=\"Suggest charts.\"\n",
              "            style=\"display:none;\">\n",
              "\n",
              "<svg xmlns=\"http://www.w3.org/2000/svg\" height=\"24px\"viewBox=\"0 0 24 24\"\n",
              "     width=\"24px\">\n",
              "    <g>\n",
              "        <path d=\"M19 3H5c-1.1 0-2 .9-2 2v14c0 1.1.9 2 2 2h14c1.1 0 2-.9 2-2V5c0-1.1-.9-2-2-2zM9 17H7v-7h2v7zm4 0h-2V7h2v10zm4 0h-2v-4h2v4z\"/>\n",
              "    </g>\n",
              "</svg>\n",
              "  </button>\n",
              "\n",
              "<style>\n",
              "  .colab-df-quickchart {\n",
              "    background-color: #E8F0FE;\n",
              "    border: none;\n",
              "    border-radius: 50%;\n",
              "    cursor: pointer;\n",
              "    display: none;\n",
              "    fill: #1967D2;\n",
              "    height: 32px;\n",
              "    padding: 0 0 0 0;\n",
              "    width: 32px;\n",
              "  }\n",
              "\n",
              "  .colab-df-quickchart:hover {\n",
              "    background-color: #E2EBFA;\n",
              "    box-shadow: 0px 1px 2px rgba(60, 64, 67, 0.3), 0px 1px 3px 1px rgba(60, 64, 67, 0.15);\n",
              "    fill: #174EA6;\n",
              "  }\n",
              "\n",
              "  [theme=dark] .colab-df-quickchart {\n",
              "    background-color: #3B4455;\n",
              "    fill: #D2E3FC;\n",
              "  }\n",
              "\n",
              "  [theme=dark] .colab-df-quickchart:hover {\n",
              "    background-color: #434B5C;\n",
              "    box-shadow: 0px 1px 3px 1px rgba(0, 0, 0, 0.15);\n",
              "    filter: drop-shadow(0px 1px 2px rgba(0, 0, 0, 0.3));\n",
              "    fill: #FFFFFF;\n",
              "  }\n",
              "</style>\n",
              "\n",
              "  <script>\n",
              "    async function quickchart(key) {\n",
              "      const charts = await google.colab.kernel.invokeFunction(\n",
              "          'suggestCharts', [key], {});\n",
              "    }\n",
              "    (() => {\n",
              "      let quickchartButtonEl =\n",
              "        document.querySelector('#df-d36894b4-b071-4cb7-a50d-40b5b96f4bfd button');\n",
              "      quickchartButtonEl.style.display =\n",
              "        google.colab.kernel.accessAllowed ? 'block' : 'none';\n",
              "    })();\n",
              "  </script>\n",
              "</div>\n",
              "    </div>\n",
              "  </div>\n"
            ]
          },
          "metadata": {},
          "execution_count": 28
        }
      ],
      "source": [
        "import pandas as pd\n",
        "df = pd.read_csv(\"/home/perfil_eleitorado_2020.csv\", sep='\";\"', encoding=\"ISO-8859-1\")\n",
        "df.head(5)"
      ]
    },
    {
      "cell_type": "markdown",
      "source": [
        "# Removendo colunas e registro irrelevante para análise\n",
        "- Acredito que essas colunas não acrecentam valor para a análise"
      ],
      "metadata": {
        "id": "ULgBqOHVzpq8"
      }
    },
    {
      "cell_type": "code",
      "source": [
        "colunas_irrelevantes = [\"HH_GERACAO\", \"CD_MUN_SIT_BIOMETRIA\", \"DS_MUN_SIT_BIOMETRIA\", \"ANO_ELEICAO\" , \"CD_MUNICIPIO\" , \"CD_GENERO\" ,\n",
        "                        \"CD_ESTADO_CIVIL\" , \"CD_FAIXA_ETARIA\" , \"CD_GRAU_ESCOLARIDADE\" , \"QT_ELEITORES_PERFIL\" , \"QT_ELEITORES_BIOMETRIA\" , \"QT_ELEITORES_DEFICIENCIA\" ]\n",
        "df = df.drop(colunas_irrelevantes, axis=1)"
      ],
      "metadata": {
        "id": "ISSoT78Oz-9J"
      },
      "execution_count": 29,
      "outputs": []
    },
    {
      "cell_type": "markdown",
      "source": [
        "# Exibição das colunas restantes"
      ],
      "metadata": {
        "id": "_bfWRzz0KCXj"
      }
    },
    {
      "cell_type": "code",
      "source": [
        "df.info()"
      ],
      "metadata": {
        "id": "BCD00FjTGKyq",
        "colab": {
          "base_uri": "https://localhost:8080/"
        },
        "outputId": "63773ad3-7d0b-4a27-e844-403fcc3225d2"
      },
      "execution_count": 30,
      "outputs": [
        {
          "output_type": "stream",
          "name": "stdout",
          "text": [
            "<class 'pandas.core.frame.DataFrame'>\n",
            "RangeIndex: 530217 entries, 0 to 530216\n",
            "Data columns (total 9 columns):\n",
            " #   Column                       Non-Null Count   Dtype \n",
            "---  ------                       --------------   ----- \n",
            " 0   \"DT_GERACAO                  530217 non-null  object\n",
            " 1   SG_UF                        201000 non-null  object\n",
            " 2   NM_MUNICIPIO                 200992 non-null  object\n",
            " 3   NR_ZONA                      200977 non-null  object\n",
            " 4   DS_GENERO                    200971 non-null  object\n",
            " 5   DS_ESTADO_CIVIL              200964 non-null  object\n",
            " 6   DS_FAIXA_ETARIA              200956 non-null  object\n",
            " 7   DS_GRAU_ESCOLARIDADE         200946 non-null  object\n",
            " 8   QT_ELEITORES_INC_NM_SOCIAL\"  200934 non-null  object\n",
            "dtypes: object(9)\n",
            "memory usage: 36.4+ MB\n"
          ]
        }
      ]
    },
    {
      "cell_type": "markdown",
      "source": [
        "# Removendo registros nulos e em branco"
      ],
      "metadata": {
        "id": "QVtqc3FHvpvK"
      }
    },
    {
      "cell_type": "code",
      "source": [
        "df.dropna(inplace=True)"
      ],
      "metadata": {
        "id": "x7lJmojNvdWa"
      },
      "execution_count": 31,
      "outputs": []
    },
    {
      "cell_type": "markdown",
      "source": [
        "# Deixando apenas o estado de São Paulo selecionado"
      ],
      "metadata": {
        "id": "8Ij0cAC4yShu"
      }
    },
    {
      "cell_type": "code",
      "source": [
        "df = df[df[\"SG_UF\"] == \"SP\"]"
      ],
      "metadata": {
        "id": "UUNTIXnkzQl5"
      },
      "execution_count": 33,
      "outputs": []
    },
    {
      "cell_type": "markdown",
      "source": [
        "# Exportando os dados tratados para um arquivo csv no meu google drive"
      ],
      "metadata": {
        "id": "WhtyUGBBHBqx"
      }
    },
    {
      "cell_type": "code",
      "source": [
        "from google.colab import drive\n",
        "drive.mount('/content/drive')"
      ],
      "metadata": {
        "colab": {
          "base_uri": "https://localhost:8080/"
        },
        "id": "iLd1wdRsN71g",
        "outputId": "372beb2b-8000-402a-9d43-7ea3d9619025"
      },
      "execution_count": 36,
      "outputs": [
        {
          "output_type": "stream",
          "name": "stdout",
          "text": [
            "Mounted at /content/drive\n"
          ]
        }
      ]
    },
    {
      "cell_type": "code",
      "source": [
        "df.to_csv('/content/drive/My Drive/seu_arquivo.csv', index=False)"
      ],
      "metadata": {
        "id": "BkP9s4I8NlDU"
      },
      "execution_count": 37,
      "outputs": []
    }
  ]
}